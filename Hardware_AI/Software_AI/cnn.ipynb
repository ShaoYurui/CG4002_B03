{
 "cells": [
  {
   "cell_type": "code",
   "execution_count": null,
   "metadata": {
    "collapsed": true
   },
   "outputs": [],
   "source": []
  },
  {
   "cell_type": "code",
   "execution_count": 3,
   "metadata": {
    "collapsed": false,
    "pycharm": {
     "name": "#%%\n"
    }
   },
   "outputs": [
    {
     "ename": "SymbolAlreadyExposedError",
     "evalue": "Symbol arg_max is already exposed as ().",
     "output_type": "error",
     "traceback": [
      "\u001B[0;31m---------------------------------------------------------------------------\u001B[0m",
      "\u001B[0;31mSymbolAlreadyExposedError\u001B[0m                 Traceback (most recent call last)",
      "Cell \u001B[0;32mIn[3], line 1\u001B[0m\n\u001B[0;32m----> 1\u001B[0m \u001B[39mfrom\u001B[39;00m \u001B[39mkeras\u001B[39;00m\u001B[39m.\u001B[39;00m\u001B[39mcallbacks\u001B[39;00m \u001B[39mimport\u001B[39;00m ModelCheckpoint\n\u001B[1;32m      2\u001B[0m \u001B[39mfrom\u001B[39;00m \u001B[39mtqdm\u001B[39;00m \u001B[39mimport\u001B[39;00m tqdm\n\u001B[1;32m      3\u001B[0m \u001B[39mimport\u001B[39;00m \u001B[39mos\u001B[39;00m\n",
      "File \u001B[0;32m/Library/Frameworks/Python.framework/Versions/3.8/lib/python3.8/site-packages/keras/__init__.py:21\u001B[0m\n\u001B[1;32m     15\u001B[0m \u001B[39m\"\"\"Implementation of the Keras API, the high-level API of TensorFlow.\u001B[39;00m\n\u001B[1;32m     16\u001B[0m \n\u001B[1;32m     17\u001B[0m \u001B[39mDetailed documentation and user guides are available at\u001B[39;00m\n\u001B[1;32m     18\u001B[0m \u001B[39m[keras.io](https://keras.io).\u001B[39;00m\n\u001B[1;32m     19\u001B[0m \u001B[39m\"\"\"\u001B[39;00m\n\u001B[1;32m     20\u001B[0m \u001B[39m# pylint: disable=unused-import\u001B[39;00m\n\u001B[0;32m---> 21\u001B[0m \u001B[39mfrom\u001B[39;00m \u001B[39mtensorflow\u001B[39;00m\u001B[39m.\u001B[39;00m\u001B[39mpython\u001B[39;00m \u001B[39mimport\u001B[39;00m tf2\n\u001B[1;32m     22\u001B[0m \u001B[39mfrom\u001B[39;00m \u001B[39mkeras\u001B[39;00m \u001B[39mimport\u001B[39;00m distribute\n\u001B[1;32m     24\u001B[0m \u001B[39m# See b/110718070#comment18 for more details about this import.\u001B[39;00m\n",
      "File \u001B[0;32m/Library/Frameworks/Python.framework/Versions/3.8/lib/python3.8/site-packages/tensorflow/__init__.py:37\u001B[0m\n\u001B[1;32m     34\u001B[0m \u001B[39mimport\u001B[39;00m \u001B[39msys\u001B[39;00m \u001B[39mas\u001B[39;00m \u001B[39m_sys\u001B[39;00m\n\u001B[1;32m     35\u001B[0m \u001B[39mimport\u001B[39;00m \u001B[39mtyping\u001B[39;00m \u001B[39mas\u001B[39;00m \u001B[39m_typing\u001B[39;00m\n\u001B[0;32m---> 37\u001B[0m \u001B[39mfrom\u001B[39;00m \u001B[39mtensorflow\u001B[39;00m\u001B[39m.\u001B[39;00m\u001B[39mpython\u001B[39;00m\u001B[39m.\u001B[39;00m\u001B[39mtools\u001B[39;00m \u001B[39mimport\u001B[39;00m module_util \u001B[39mas\u001B[39;00m _module_util\n\u001B[1;32m     38\u001B[0m \u001B[39mfrom\u001B[39;00m \u001B[39mtensorflow\u001B[39;00m\u001B[39m.\u001B[39;00m\u001B[39mpython\u001B[39;00m\u001B[39m.\u001B[39;00m\u001B[39mutil\u001B[39;00m\u001B[39m.\u001B[39;00m\u001B[39mlazy_loader\u001B[39;00m \u001B[39mimport\u001B[39;00m LazyLoader \u001B[39mas\u001B[39;00m _LazyLoader\n\u001B[1;32m     40\u001B[0m \u001B[39m# Make sure code inside the TensorFlow codebase can use tf2.enabled() at import.\u001B[39;00m\n",
      "File \u001B[0;32m/Library/Frameworks/Python.framework/Versions/3.8/lib/python3.8/site-packages/tensorflow/python/__init__.py:42\u001B[0m\n\u001B[1;32m     37\u001B[0m \u001B[39mfrom\u001B[39;00m \u001B[39mtensorflow\u001B[39;00m\u001B[39m.\u001B[39;00m\u001B[39mpython\u001B[39;00m\u001B[39m.\u001B[39;00m\u001B[39meager\u001B[39;00m \u001B[39mimport\u001B[39;00m context\n\u001B[1;32m     39\u001B[0m \u001B[39m# pylint: enable=wildcard-import\u001B[39;00m\n\u001B[1;32m     40\u001B[0m \n\u001B[1;32m     41\u001B[0m \u001B[39m# Bring in subpackages.\u001B[39;00m\n\u001B[0;32m---> 42\u001B[0m \u001B[39mfrom\u001B[39;00m \u001B[39mtensorflow\u001B[39;00m\u001B[39m.\u001B[39;00m\u001B[39mpython\u001B[39;00m \u001B[39mimport\u001B[39;00m data\n\u001B[1;32m     43\u001B[0m \u001B[39mfrom\u001B[39;00m \u001B[39mtensorflow\u001B[39;00m\u001B[39m.\u001B[39;00m\u001B[39mpython\u001B[39;00m \u001B[39mimport\u001B[39;00m distribute\n\u001B[1;32m     44\u001B[0m \u001B[39m# from tensorflow.python import keras\u001B[39;00m\n",
      "File \u001B[0;32m/Library/Frameworks/Python.framework/Versions/3.8/lib/python3.8/site-packages/tensorflow/python/data/__init__.py:21\u001B[0m\n\u001B[1;32m     15\u001B[0m \u001B[39m\"\"\"`tf.data.Dataset` API for input pipelines.\u001B[39;00m\n\u001B[1;32m     16\u001B[0m \n\u001B[1;32m     17\u001B[0m \u001B[39mSee [Importing Data](https://tensorflow.org/guide/data) for an overview.\u001B[39;00m\n\u001B[1;32m     18\u001B[0m \u001B[39m\"\"\"\u001B[39;00m\n\u001B[1;32m     20\u001B[0m \u001B[39m# pylint: disable=unused-import\u001B[39;00m\n\u001B[0;32m---> 21\u001B[0m \u001B[39mfrom\u001B[39;00m \u001B[39mtensorflow\u001B[39;00m\u001B[39m.\u001B[39;00m\u001B[39mpython\u001B[39;00m\u001B[39m.\u001B[39;00m\u001B[39mdata\u001B[39;00m \u001B[39mimport\u001B[39;00m experimental\n\u001B[1;32m     22\u001B[0m \u001B[39mfrom\u001B[39;00m \u001B[39mtensorflow\u001B[39;00m\u001B[39m.\u001B[39;00m\u001B[39mpython\u001B[39;00m\u001B[39m.\u001B[39;00m\u001B[39mdata\u001B[39;00m\u001B[39m.\u001B[39;00m\u001B[39mops\u001B[39;00m\u001B[39m.\u001B[39;00m\u001B[39mdataset_ops\u001B[39;00m \u001B[39mimport\u001B[39;00m AUTOTUNE\n\u001B[1;32m     23\u001B[0m \u001B[39mfrom\u001B[39;00m \u001B[39mtensorflow\u001B[39;00m\u001B[39m.\u001B[39;00m\u001B[39mpython\u001B[39;00m\u001B[39m.\u001B[39;00m\u001B[39mdata\u001B[39;00m\u001B[39m.\u001B[39;00m\u001B[39mops\u001B[39;00m\u001B[39m.\u001B[39;00m\u001B[39mdataset_ops\u001B[39;00m \u001B[39mimport\u001B[39;00m Dataset\n",
      "File \u001B[0;32m/Library/Frameworks/Python.framework/Versions/3.8/lib/python3.8/site-packages/tensorflow/python/data/experimental/__init__.py:95\u001B[0m\n\u001B[1;32m     15\u001B[0m \u001B[39m\"\"\"Experimental API for building input pipelines.\u001B[39;00m\n\u001B[1;32m     16\u001B[0m \n\u001B[1;32m     17\u001B[0m \u001B[39mThis module contains experimental `Dataset` sources and transformations that can\u001B[39;00m\n\u001B[0;32m   (...)\u001B[0m\n\u001B[1;32m     91\u001B[0m \u001B[39m@@UNKNOWN_CARDINALITY\u001B[39;00m\n\u001B[1;32m     92\u001B[0m \u001B[39m\"\"\"\u001B[39;00m\n\u001B[1;32m     94\u001B[0m \u001B[39m# pylint: disable=unused-import\u001B[39;00m\n\u001B[0;32m---> 95\u001B[0m \u001B[39mfrom\u001B[39;00m \u001B[39mtensorflow\u001B[39;00m\u001B[39m.\u001B[39;00m\u001B[39mpython\u001B[39;00m\u001B[39m.\u001B[39;00m\u001B[39mdata\u001B[39;00m\u001B[39m.\u001B[39;00m\u001B[39mexperimental\u001B[39;00m \u001B[39mimport\u001B[39;00m service\n\u001B[1;32m     96\u001B[0m \u001B[39mfrom\u001B[39;00m \u001B[39mtensorflow\u001B[39;00m\u001B[39m.\u001B[39;00m\u001B[39mpython\u001B[39;00m\u001B[39m.\u001B[39;00m\u001B[39mdata\u001B[39;00m\u001B[39m.\u001B[39;00m\u001B[39mexperimental\u001B[39;00m\u001B[39m.\u001B[39;00m\u001B[39mops\u001B[39;00m\u001B[39m.\u001B[39;00m\u001B[39mbatching\u001B[39;00m \u001B[39mimport\u001B[39;00m dense_to_ragged_batch\n\u001B[1;32m     97\u001B[0m \u001B[39mfrom\u001B[39;00m \u001B[39mtensorflow\u001B[39;00m\u001B[39m.\u001B[39;00m\u001B[39mpython\u001B[39;00m\u001B[39m.\u001B[39;00m\u001B[39mdata\u001B[39;00m\u001B[39m.\u001B[39;00m\u001B[39mexperimental\u001B[39;00m\u001B[39m.\u001B[39;00m\u001B[39mops\u001B[39;00m\u001B[39m.\u001B[39;00m\u001B[39mbatching\u001B[39;00m \u001B[39mimport\u001B[39;00m dense_to_sparse_batch\n",
      "File \u001B[0;32m/Library/Frameworks/Python.framework/Versions/3.8/lib/python3.8/site-packages/tensorflow/python/data/experimental/service/__init__.py:387\u001B[0m\n\u001B[1;32m      1\u001B[0m \u001B[39m# Copyright 2020 The TensorFlow Authors. All Rights Reserved.\u001B[39;00m\n\u001B[1;32m      2\u001B[0m \u001B[39m#\u001B[39;00m\n\u001B[1;32m      3\u001B[0m \u001B[39m# Licensed under the Apache License, Version 2.0 (the \"License\");\u001B[39;00m\n\u001B[0;32m   (...)\u001B[0m\n\u001B[1;32m     13\u001B[0m \u001B[39m# limitations under the License.\u001B[39;00m\n\u001B[1;32m     14\u001B[0m \u001B[39m# ==============================================================================\u001B[39;00m\n\u001B[1;32m     15\u001B[0m \u001B[39m\"\"\"API for using the tf.data service.\u001B[39;00m\n\u001B[1;32m     16\u001B[0m \n\u001B[1;32m     17\u001B[0m \u001B[39mThis module contains:\u001B[39;00m\n\u001B[0;32m   (...)\u001B[0m\n\u001B[1;32m    384\u001B[0m \u001B[39m  job of ParameterServerStrategy).\u001B[39;00m\n\u001B[1;32m    385\u001B[0m \u001B[39m\"\"\"\u001B[39;00m\n\u001B[0;32m--> 387\u001B[0m \u001B[39mfrom\u001B[39;00m \u001B[39mtensorflow\u001B[39;00m\u001B[39m.\u001B[39;00m\u001B[39mpython\u001B[39;00m\u001B[39m.\u001B[39;00m\u001B[39mdata\u001B[39;00m\u001B[39m.\u001B[39;00m\u001B[39mexperimental\u001B[39;00m\u001B[39m.\u001B[39;00m\u001B[39mops\u001B[39;00m\u001B[39m.\u001B[39;00m\u001B[39mdata_service_ops\u001B[39;00m \u001B[39mimport\u001B[39;00m distribute\n\u001B[1;32m    388\u001B[0m \u001B[39mfrom\u001B[39;00m \u001B[39mtensorflow\u001B[39;00m\u001B[39m.\u001B[39;00m\u001B[39mpython\u001B[39;00m\u001B[39m.\u001B[39;00m\u001B[39mdata\u001B[39;00m\u001B[39m.\u001B[39;00m\u001B[39mexperimental\u001B[39;00m\u001B[39m.\u001B[39;00m\u001B[39mops\u001B[39;00m\u001B[39m.\u001B[39;00m\u001B[39mdata_service_ops\u001B[39;00m \u001B[39mimport\u001B[39;00m from_dataset_id\n\u001B[1;32m    389\u001B[0m \u001B[39mfrom\u001B[39;00m \u001B[39mtensorflow\u001B[39;00m\u001B[39m.\u001B[39;00m\u001B[39mpython\u001B[39;00m\u001B[39m.\u001B[39;00m\u001B[39mdata\u001B[39;00m\u001B[39m.\u001B[39;00m\u001B[39mexperimental\u001B[39;00m\u001B[39m.\u001B[39;00m\u001B[39mops\u001B[39;00m\u001B[39m.\u001B[39;00m\u001B[39mdata_service_ops\u001B[39;00m \u001B[39mimport\u001B[39;00m register_dataset\n",
      "File \u001B[0;32m/Library/Frameworks/Python.framework/Versions/3.8/lib/python3.8/site-packages/tensorflow/python/data/experimental/ops/data_service_ops.py:23\u001B[0m\n\u001B[1;32m     21\u001B[0m \u001B[39mfrom\u001B[39;00m \u001B[39mtensorflow\u001B[39;00m\u001B[39m.\u001B[39;00m\u001B[39mpython\u001B[39;00m \u001B[39mimport\u001B[39;00m tf2\n\u001B[1;32m     22\u001B[0m \u001B[39mfrom\u001B[39;00m \u001B[39mtensorflow\u001B[39;00m\u001B[39m.\u001B[39;00m\u001B[39mpython\u001B[39;00m\u001B[39m.\u001B[39;00m\u001B[39mcompat\u001B[39;00m \u001B[39mimport\u001B[39;00m compat\n\u001B[0;32m---> 23\u001B[0m \u001B[39mfrom\u001B[39;00m \u001B[39mtensorflow\u001B[39;00m\u001B[39m.\u001B[39;00m\u001B[39mpython\u001B[39;00m\u001B[39m.\u001B[39;00m\u001B[39mdata\u001B[39;00m\u001B[39m.\u001B[39;00m\u001B[39mexperimental\u001B[39;00m\u001B[39m.\u001B[39;00m\u001B[39mops\u001B[39;00m \u001B[39mimport\u001B[39;00m compression_ops\n\u001B[1;32m     24\u001B[0m \u001B[39mfrom\u001B[39;00m \u001B[39mtensorflow\u001B[39;00m\u001B[39m.\u001B[39;00m\u001B[39mpython\u001B[39;00m\u001B[39m.\u001B[39;00m\u001B[39mdata\u001B[39;00m\u001B[39m.\u001B[39;00m\u001B[39mexperimental\u001B[39;00m\u001B[39m.\u001B[39;00m\u001B[39mservice\u001B[39;00m \u001B[39mimport\u001B[39;00m _pywrap_server_lib\n\u001B[1;32m     25\u001B[0m \u001B[39mfrom\u001B[39;00m \u001B[39mtensorflow\u001B[39;00m\u001B[39m.\u001B[39;00m\u001B[39mpython\u001B[39;00m\u001B[39m.\u001B[39;00m\u001B[39mdata\u001B[39;00m\u001B[39m.\u001B[39;00m\u001B[39mexperimental\u001B[39;00m\u001B[39m.\u001B[39;00m\u001B[39mservice\u001B[39;00m \u001B[39mimport\u001B[39;00m _pywrap_utils\n",
      "File \u001B[0;32m/Library/Frameworks/Python.framework/Versions/3.8/lib/python3.8/site-packages/tensorflow/python/data/experimental/ops/compression_ops.py:16\u001B[0m\n\u001B[1;32m      1\u001B[0m \u001B[39m# Copyright 2020 The TensorFlow Authors. All Rights Reserved.\u001B[39;00m\n\u001B[1;32m      2\u001B[0m \u001B[39m#\u001B[39;00m\n\u001B[1;32m      3\u001B[0m \u001B[39m# Licensed under the Apache License, Version 2.0 (the \"License\");\u001B[39;00m\n\u001B[0;32m   (...)\u001B[0m\n\u001B[1;32m     13\u001B[0m \u001B[39m# limitations under the License.\u001B[39;00m\n\u001B[1;32m     14\u001B[0m \u001B[39m# ==============================================================================\u001B[39;00m\n\u001B[1;32m     15\u001B[0m \u001B[39m\"\"\"Ops for compressing and uncompressing dataset elements.\"\"\"\u001B[39;00m\n\u001B[0;32m---> 16\u001B[0m \u001B[39mfrom\u001B[39;00m \u001B[39mtensorflow\u001B[39;00m\u001B[39m.\u001B[39;00m\u001B[39mpython\u001B[39;00m\u001B[39m.\u001B[39;00m\u001B[39mdata\u001B[39;00m\u001B[39m.\u001B[39;00m\u001B[39mutil\u001B[39;00m \u001B[39mimport\u001B[39;00m structure\n\u001B[1;32m     17\u001B[0m \u001B[39mfrom\u001B[39;00m \u001B[39mtensorflow\u001B[39;00m\u001B[39m.\u001B[39;00m\u001B[39mpython\u001B[39;00m\u001B[39m.\u001B[39;00m\u001B[39mops\u001B[39;00m \u001B[39mimport\u001B[39;00m gen_experimental_dataset_ops \u001B[39mas\u001B[39;00m ged_ops\n\u001B[1;32m     20\u001B[0m \u001B[39mdef\u001B[39;00m \u001B[39mcompress\u001B[39m(element):\n",
      "File \u001B[0;32m/Library/Frameworks/Python.framework/Versions/3.8/lib/python3.8/site-packages/tensorflow/python/data/util/structure.py:29\u001B[0m\n\u001B[1;32m     27\u001B[0m \u001B[39mfrom\u001B[39;00m \u001B[39mtensorflow\u001B[39;00m\u001B[39m.\u001B[39;00m\u001B[39mpython\u001B[39;00m\u001B[39m.\u001B[39;00m\u001B[39mframework\u001B[39;00m \u001B[39mimport\u001B[39;00m tensor_spec\n\u001B[1;32m     28\u001B[0m \u001B[39mfrom\u001B[39;00m \u001B[39mtensorflow\u001B[39;00m\u001B[39m.\u001B[39;00m\u001B[39mpython\u001B[39;00m\u001B[39m.\u001B[39;00m\u001B[39mframework\u001B[39;00m \u001B[39mimport\u001B[39;00m type_spec\n\u001B[0;32m---> 29\u001B[0m \u001B[39mfrom\u001B[39;00m \u001B[39mtensorflow\u001B[39;00m\u001B[39m.\u001B[39;00m\u001B[39mpython\u001B[39;00m\u001B[39m.\u001B[39;00m\u001B[39mops\u001B[39;00m \u001B[39mimport\u001B[39;00m tensor_array_ops\n\u001B[1;32m     30\u001B[0m \u001B[39mfrom\u001B[39;00m \u001B[39mtensorflow\u001B[39;00m\u001B[39m.\u001B[39;00m\u001B[39mpython\u001B[39;00m\u001B[39m.\u001B[39;00m\u001B[39mops\u001B[39;00m\u001B[39m.\u001B[39;00m\u001B[39mragged\u001B[39;00m \u001B[39mimport\u001B[39;00m ragged_tensor\n\u001B[1;32m     31\u001B[0m \u001B[39mfrom\u001B[39;00m \u001B[39mtensorflow\u001B[39;00m\u001B[39m.\u001B[39;00m\u001B[39mpython\u001B[39;00m\u001B[39m.\u001B[39;00m\u001B[39mplatform\u001B[39;00m \u001B[39mimport\u001B[39;00m tf_logging \u001B[39mas\u001B[39;00m logging\n",
      "File \u001B[0;32m/Library/Frameworks/Python.framework/Versions/3.8/lib/python3.8/site-packages/tensorflow/python/ops/tensor_array_ops.py:39\u001B[0m\n\u001B[1;32m     37\u001B[0m \u001B[39mfrom\u001B[39;00m \u001B[39mtensorflow\u001B[39;00m\u001B[39m.\u001B[39;00m\u001B[39mpython\u001B[39;00m\u001B[39m.\u001B[39;00m\u001B[39mops\u001B[39;00m \u001B[39mimport\u001B[39;00m gen_data_flow_ops\n\u001B[1;32m     38\u001B[0m \u001B[39mfrom\u001B[39;00m \u001B[39mtensorflow\u001B[39;00m\u001B[39m.\u001B[39;00m\u001B[39mpython\u001B[39;00m\u001B[39m.\u001B[39;00m\u001B[39mops\u001B[39;00m \u001B[39mimport\u001B[39;00m list_ops\n\u001B[0;32m---> 39\u001B[0m \u001B[39mfrom\u001B[39;00m \u001B[39mtensorflow\u001B[39;00m\u001B[39m.\u001B[39;00m\u001B[39mpython\u001B[39;00m\u001B[39m.\u001B[39;00m\u001B[39mops\u001B[39;00m \u001B[39mimport\u001B[39;00m math_ops\n\u001B[1;32m     40\u001B[0m \u001B[39mfrom\u001B[39;00m \u001B[39mtensorflow\u001B[39;00m\u001B[39m.\u001B[39;00m\u001B[39mpython\u001B[39;00m\u001B[39m.\u001B[39;00m\u001B[39mplatform\u001B[39;00m \u001B[39mimport\u001B[39;00m tf_logging \u001B[39mas\u001B[39;00m logging\n\u001B[1;32m     41\u001B[0m \u001B[39mfrom\u001B[39;00m \u001B[39mtensorflow\u001B[39;00m\u001B[39m.\u001B[39;00m\u001B[39mpython\u001B[39;00m\u001B[39m.\u001B[39;00m\u001B[39mutil\u001B[39;00m \u001B[39mimport\u001B[39;00m tf_should_use\n",
      "File \u001B[0;32m/Library/Frameworks/Python.framework/Versions/3.8/lib/python3.8/site-packages/tensorflow/python/ops/math_ops.py:231\u001B[0m\n\u001B[1;32m    229\u001B[0m arg_max \u001B[39m=\u001B[39m deprecation\u001B[39m.\u001B[39mdeprecated(\u001B[39mNone\u001B[39;00m, \u001B[39m\"\u001B[39m\u001B[39mUse `tf.math.argmax` instead\u001B[39m\u001B[39m\"\u001B[39m)(arg_max)  \u001B[39m# pylint: disable=used-before-assignment\u001B[39;00m\n\u001B[1;32m    230\u001B[0m arg_min \u001B[39m=\u001B[39m deprecation\u001B[39m.\u001B[39mdeprecated(\u001B[39mNone\u001B[39;00m, \u001B[39m\"\u001B[39m\u001B[39mUse `tf.math.argmin` instead\u001B[39m\u001B[39m\"\u001B[39m)(arg_min)  \u001B[39m# pylint: disable=used-before-assignment\u001B[39;00m\n\u001B[0;32m--> 231\u001B[0m tf_export(v1\u001B[39m=\u001B[39;49m[\u001B[39m\"\u001B[39;49m\u001B[39marg_max\u001B[39;49m\u001B[39m\"\u001B[39;49m])(dispatch\u001B[39m.\u001B[39;49madd_dispatch_support(arg_max))\n\u001B[1;32m    232\u001B[0m tf_export(v1\u001B[39m=\u001B[39m[\u001B[39m\"\u001B[39m\u001B[39marg_min\u001B[39m\u001B[39m\"\u001B[39m])(dispatch\u001B[39m.\u001B[39madd_dispatch_support(arg_min))\n\u001B[1;32m    235\u001B[0m \u001B[39m# This is set by resource_variable_ops.py. It is included in this way since\u001B[39;00m\n\u001B[1;32m    236\u001B[0m \u001B[39m# there is a circular dependency between math_ops and resource_variable_ops\u001B[39;00m\n",
      "File \u001B[0;32m/Library/Frameworks/Python.framework/Versions/3.8/lib/python3.8/site-packages/tensorflow/python/util/tf_export.py:336\u001B[0m, in \u001B[0;36mapi_export.__call__\u001B[0;34m(self, func)\u001B[0m\n\u001B[1;32m    333\u001B[0m   \u001B[39mdelattr\u001B[39m(undecorated_f, api_names_attr_v1)\n\u001B[1;32m    335\u001B[0m _, undecorated_func \u001B[39m=\u001B[39m tf_decorator\u001B[39m.\u001B[39munwrap(func)\n\u001B[0;32m--> 336\u001B[0m \u001B[39mself\u001B[39;49m\u001B[39m.\u001B[39;49mset_attr(undecorated_func, api_names_attr, \u001B[39mself\u001B[39;49m\u001B[39m.\u001B[39;49m_names)\n\u001B[1;32m    337\u001B[0m \u001B[39mself\u001B[39m\u001B[39m.\u001B[39mset_attr(undecorated_func, api_names_attr_v1, \u001B[39mself\u001B[39m\u001B[39m.\u001B[39m_names_v1)\n\u001B[1;32m    339\u001B[0m \u001B[39mfor\u001B[39;00m name \u001B[39min\u001B[39;00m \u001B[39mself\u001B[39m\u001B[39m.\u001B[39m_names:\n",
      "File \u001B[0;32m/Library/Frameworks/Python.framework/Versions/3.8/lib/python3.8/site-packages/tensorflow/python/util/tf_export.py:351\u001B[0m, in \u001B[0;36mapi_export.set_attr\u001B[0;34m(self, func, api_names_attr, names)\u001B[0m\n\u001B[1;32m    349\u001B[0m \u001B[39mif\u001B[39;00m api_names_attr \u001B[39min\u001B[39;00m func\u001B[39m.\u001B[39m\u001B[39m__dict__\u001B[39m:\n\u001B[1;32m    350\u001B[0m   \u001B[39mif\u001B[39;00m \u001B[39mnot\u001B[39;00m \u001B[39mself\u001B[39m\u001B[39m.\u001B[39m_allow_multiple_exports:\n\u001B[0;32m--> 351\u001B[0m     \u001B[39mraise\u001B[39;00m SymbolAlreadyExposedError(\n\u001B[1;32m    352\u001B[0m         \u001B[39m'\u001B[39m\u001B[39mSymbol \u001B[39m\u001B[39m%s\u001B[39;00m\u001B[39m is already exposed as \u001B[39m\u001B[39m%s\u001B[39;00m\u001B[39m.\u001B[39m\u001B[39m'\u001B[39m \u001B[39m%\u001B[39m\n\u001B[1;32m    353\u001B[0m         (func\u001B[39m.\u001B[39m\u001B[39m__name__\u001B[39m, \u001B[39mgetattr\u001B[39m(func, api_names_attr)))  \u001B[39m# pylint: disable=protected-access\u001B[39;00m\n\u001B[1;32m    354\u001B[0m \u001B[39msetattr\u001B[39m(func, api_names_attr, names)\n",
      "\u001B[0;31mSymbolAlreadyExposedError\u001B[0m: Symbol arg_max is already exposed as ()."
     ]
    }
   ],
   "source": [
    "from keras.callbacks import ModelCheckpoint\n",
    "from tqdm import tqdm\n",
    "import os\n",
    "import glob\n",
    "import numpy as np\n",
    "import pandas as pd\n",
    "import matplotlib.pyplot as plt\n",
    "import seaborn as sns\n",
    "import warnings\n",
    "from keras import layers\n",
    "from sklearn import metrics\n",
    "from sklearn.metrics import classification_report\n",
    "from tensorflow import keras\n",
    "import tensorflow as tf\n",
    "from sklearn.model_selection import train_test_split\n",
    "from tensorflow.keras.utils import to_categorical\n",
    "from keras.layers import Conv1D\n",
    "from tensorflow.keras.optimizers import Adam\n",
    "tf.random.set_seed(221)\n"
   ]
  },
  {
   "cell_type": "code",
   "execution_count": null,
   "metadata": {
    "collapsed": false,
    "pycharm": {
     "name": "#%%\n"
    }
   },
   "outputs": [],
   "source": [
    "def sliding_window(X, Y, size, stride):\n",
    "    X_window = []\n",
    "    y_window = []\n",
    "    for i in range(len(X)):\n",
    "        for j in range(0, len(X[i]) - (3*stride) - size + 1, stride):\n",
    "            y_window.append(Y[i])\n",
    "            X_window.append(X[i][j:j + size])\n",
    "    return np.array(X_window), np.array(y_window)\n",
    "\n",
    "\n",
    "def extract_features(csv_files):\n",
    "    y_train = []\n",
    "    X_train = []\n",
    "    walking_rows = 0\n",
    "    walking_files = 0\n",
    "    logout_rows = 0\n",
    "    logout_files = 0\n",
    "    grenade_rows = 0\n",
    "    grenade_files = 0\n",
    "    reload_rows = 0\n",
    "    reload_files = 0\n",
    "    shield_rows = 0\n",
    "    shield_files = 0\n",
    "    for i in tqdm(range(len(csv_files)-1)):\n",
    "        csv_file = csv_files[i]\n",
    "        cols = ['timestamp', 'act_id', 'acc_x', 'acc_y', 'acc_z', 'gyro_x', 'gyro_y', 'gyro_z']\n",
    "        action_raw = pd.read_csv(csv_file, dtype=np.int32, names=cols, usecols=lambda x: x not in ['timestamp', 'act_id'])\n",
    "        labels = pd.read_csv(csv_file, header=None, names=cols, usecols=['act_id'])\n",
    "        df = labels.head(1)\n",
    "        # if action_raw.shape[0] < 100:\n",
    "        #     action_raw = action_raw.reindex(range(100), fill_value=0)\n",
    "        if df['act_id'].values == 0:\n",
    "            action = 0\n",
    "            walking_rows += action_raw.shape[0]\n",
    "            walking_files += 1\n",
    "        if df['act_id'].values == 1:\n",
    "            action = 1\n",
    "            grenade_rows += action_raw.shape[0]\n",
    "            grenade_files += 1\n",
    "        if df['act_id'].values == 2:\n",
    "            action = 2\n",
    "            reload_rows += action_raw.shape[0]\n",
    "            reload_files += 1\n",
    "            # action_raw = action_raw.reindex(range(100), fill_value=0)\n",
    "        if df['act_id'].values == 3:\n",
    "            action = 3\n",
    "            shield_rows += action_raw.shape[0]\n",
    "            shield_files += 1\n",
    "            # action_raw = action_raw.reindex(range(100), fill_value=0)\n",
    "            # print(action_raw.to_string())\n",
    "        if df['act_id'].values == 4:\n",
    "            action = 4\n",
    "            logout_rows += action_raw.shape[0]\n",
    "            logout_files += 1\n",
    "        y_train.append(action)\n",
    "        X_train.append(action_raw.values)\n",
    "\n",
    "    logout_average = logout_rows / logout_files\n",
    "    grenade_average = grenade_rows / grenade_files\n",
    "    reload_average = reload_rows / reload_files\n",
    "    shield_average = shield_rows / shield_files\n",
    "    walking_average = walking_rows / walking_files\n",
    "    print(\"Logout average rows:\" + str(logout_average))\n",
    "    print(\"Grenade average rows:\" +str(grenade_average))\n",
    "    print(\"Reload average rows:\" + str(reload_average))\n",
    "    print(\"Shield average rows:\" + str(shield_average))\n",
    "    print(\"Walking average rows:\" + str(walking_average))\n",
    "    y_train = to_categorical(y_train, 5)\n",
    "    return X_train, np.array(y_train)\n",
    "\n",
    "\n",
    "def scaling(x, seed, sigma=0.1):\n",
    "    np.random.seed(seed)\n",
    "    factor = np.random.normal(loc=1., scale=sigma, size=(x.shape[0], x.shape[2]))\n",
    "    return np.multiply(x, factor[:, np.newaxis, :])\n",
    "\n",
    "\n",
    "def magnitude_warp(x, seed, sigma=0.2, knot=4):\n",
    "    from scipy.interpolate import CubicSpline\n",
    "    orig_steps = np.arange(x.shape[1])\n",
    "    np.random.seed(seed)\n",
    "    random_warps = np.random.normal(loc=1.0, scale=sigma, size=(x.shape[0], knot + 2, x.shape[2]))\n",
    "    warp_steps = (np.ones((x.shape[2], 1)) * (np.linspace(0, x.shape[1] - 1., num=knot + 2))).T\n",
    "    ret = np.zeros_like(x)\n",
    "    for i, pat in enumerate(x):\n",
    "        warper = np.array(\n",
    "            [CubicSpline(warp_steps[:, dim], random_warps[i, :, dim])(orig_steps) for dim in range(x.shape[2])]).T\n",
    "        ret[i] = pat * warper\n",
    "\n",
    "    return ret\n",
    "\n",
    "\n",
    "def time_warp(x, seed, sigma=0.2, knot=4):\n",
    "    from scipy.interpolate import CubicSpline\n",
    "    orig_steps = np.arange(x.shape[1])\n",
    "    np.random.seed(seed)\n",
    "    random_warps = np.random.normal(loc=1.0, scale=sigma, size=(x.shape[0], knot + 2, x.shape[2]))\n",
    "    warp_steps = (np.ones((x.shape[2], 1)) * (np.linspace(0, x.shape[1] - 1., num=knot + 2))).T\n",
    "\n",
    "    ret = np.zeros_like(x)\n",
    "    for i, pat in enumerate(x):\n",
    "        for dim in range(x.shape[2]):\n",
    "            time_warp = CubicSpline(warp_steps[:, dim], warp_steps[:, dim] * random_warps[i, :, dim])(orig_steps)\n",
    "            scale = (x.shape[1] - 1) / time_warp[-1]\n",
    "            ret[i, :, dim] = np.interp(orig_steps, np.clip(scale * time_warp, 0, x.shape[1] - 1), pat[:, dim]).T\n",
    "    return ret\n",
    "\n",
    "\n",
    "def window_warp(x, window_ratio=0.5, scales=[0.5, 2.]):\n",
    "    # https://halshs.archives-ouvertes.fr/halshs-01357973/document\n",
    "    warp_scales = np.random.choice(scales, x.shape[0])\n",
    "    warp_size = np.ceil(window_ratio * x.shape[1]).astype(int)\n",
    "    window_steps = np.arange(warp_size)\n",
    "\n",
    "    window_starts = np.random.randint(low=1, high=x.shape[1] - warp_size - 1, size=(x.shape[0])).astype(int)\n",
    "    window_ends = (window_starts + warp_size).astype(int)\n",
    "\n",
    "    ret = np.zeros_like(x)\n",
    "    for i, pat in enumerate(x):\n",
    "        for dim in range(x.shape[2]):\n",
    "            start_seg = pat[:window_starts[i], dim]\n",
    "            window_seg = np.interp(np.linspace(0, warp_size - 1, num=int(warp_size * warp_scales[i])), window_steps,\n",
    "                                   pat[window_starts[i]:window_ends[i], dim])\n",
    "            end_seg = pat[window_ends[i]:, dim]\n",
    "            warped = np.concatenate((start_seg, window_seg, end_seg))\n",
    "            ret[i, :, dim] = np.interp(np.arange(x.shape[1]), np.linspace(0, x.shape[1] - 1., num=warped.size),\n",
    "                                       warped).T\n",
    "    return ret\n",
    "\n",
    "\n",
    "def augment(x, seed):\n",
    "    x = np.concatenate([np.array(x[:, :, :3]), np.array(magnitude_warp(x[:, :, 3:], seed))], axis=-1)\n",
    "    x = np.concatenate([np.array(x[:, :, :3]), np.array(scaling(x[:, :, 3:], seed, sigma=0.1))], axis=-1)\n",
    "    # x = np.concatenate([np.array(x[:, :, :3]), np.array(time_warp(x[:, :, 3:], seed))], axis=-1)\n",
    "    w_ratio = np.random.uniform(0.4, 0.6)\n",
    "    w_scale = np.arange(0.2, 4, 0.2)\n",
    "    x = window_warp(x, window_ratio=w_ratio, scales=w_scale)\n",
    "    return x"
   ]
  },
  {
   "cell_type": "code",
   "execution_count": null,
   "metadata": {
    "collapsed": false,
    "pycharm": {
     "name": "#%%\n"
    }
   },
   "outputs": [
    {
     "name": "stderr",
     "output_type": "stream",
     "text": [
      "100%|██████████| 3204/3204 [00:10<00:00, 306.65it/s]"
     ]
    },
    {
     "name": "stdout",
     "output_type": "stream",
     "text": [
      "Logout average rows:91.81645569620254\n",
      "Grenade average rows:77.79666160849773\n",
      "Reload average rows:70.46125\n",
      "Shield average rows:70.50560398505604\n",
      "Walking average rows:70.57692307692308\n"
     ]
    },
    {
     "name": "stderr",
     "output_type": "stream",
     "text": [
      "\n"
     ]
    }
   ],
   "source": [
    "warnings.filterwarnings('ignore')\n",
    "DATA_DIR = os.getcwd()\n",
    "data_files = sorted(glob.glob(os.path.join(DATA_DIR, \"data_03_29_to_04_08/*.csv\")))\n",
    "X_train, y_train = extract_features(data_files)\n"
   ]
  },
  {
   "cell_type": "code",
   "execution_count": null,
   "metadata": {
    "collapsed": false,
    "pycharm": {
     "name": "#%%\n"
    }
   },
   "outputs": [
    {
     "name": "stdout",
     "output_type": "stream",
     "text": [
      "(7440, 45, 6)\n",
      "(1861, 45, 6)\n",
      "(2349, 45, 6)\n",
      "(7440, 5)\n",
      "(1861, 5)\n",
      "(2349, 5)\n"
     ]
    }
   ],
   "source": [
    "weights = {}\n",
    "for i in range(5):\n",
    "    weights[i] = 1/y_train[:, i].sum()\n",
    "\n",
    "WINDOW_SIZE = 45\n",
    "STRIDE = 5\n",
    "X_train_initial, X_test, y_train_initial, y_test = train_test_split(X_train, y_train, test_size=0.2, stratify=y_train, random_state=21)\n",
    "X_train, X_val, y_train, y_val = train_test_split(X_train_initial, y_train_initial, test_size=0.2, stratify=y_train_initial, random_state=19)\n",
    "\n",
    "# print(np.array(X_train))\n",
    "X_train, y_train = sliding_window(X_train, y_train, WINDOW_SIZE, STRIDE)\n",
    "X_test, y_test = sliding_window(X_test, y_test, WINDOW_SIZE, STRIDE)\n",
    "X_val, y_val = sliding_window(X_val, y_val, WINDOW_SIZE, STRIDE)\n",
    "print(X_train.shape)\n",
    "print(X_val.shape)\n",
    "print(X_test.shape)\n",
    "print(y_train.shape)\n",
    "print(y_val.shape)\n",
    "print(y_test.shape)"
   ]
  },
  {
   "cell_type": "code",
   "execution_count": null,
   "metadata": {
    "collapsed": false,
    "pycharm": {
     "name": "#%%\n"
    }
   },
   "outputs": [
    {
     "name": "stdout",
     "output_type": "stream",
     "text": [
      "(29760, 45, 6)\n",
      "(29760, 5)\n"
     ]
    }
   ],
   "source": [
    "X_aug1 = augment(X_train, 1)\n",
    "X_aug2 = augment(X_train, 2)\n",
    "X_aug3 = augment(X_train, 3)\n",
    "x_args = (X_train, X_aug1, X_aug2, X_aug3)\n",
    "X_train = np.concatenate(x_args, axis=0)\n",
    "y_args = (y_train, y_train, y_train, y_train)\n",
    "y_train = np.concatenate(y_args, axis=0)\n",
    "X_train, X_test, X_val = np.asarray(np.float32(X_train) / 4096), np.asarray(np.float32(X_test) / 4096), \\\n",
    "                         np.asarray(np.float32(X_val) / 4096)\n",
    "print(X_train.shape)\n",
    "print(y_train.shape)\n",
    "\n",
    "\n",
    "np.save(\"x_test.npy\", X_test)\n",
    "np.save(\"y_test.npy\", y_test)"
   ]
  },
  {
   "cell_type": "code",
   "execution_count": null,
   "metadata": {
    "collapsed": false,
    "pycharm": {
     "name": "#%%\n"
    }
   },
   "outputs": [
    {
     "name": "stdout",
     "output_type": "stream",
     "text": [
      "Model: \"sequential_5\"\n",
      "_________________________________________________________________\n",
      " Layer (type)                Output Shape              Param #   \n",
      "=================================================================\n",
      " conv1d_5 (Conv1D)           (None, 31, 64)            5824      \n",
      "                                                                 \n",
      " global_average_pooling1d_5   (None, 64)               0         \n",
      " (GlobalAveragePooling1D)                                        \n",
      "                                                                 \n",
      " dense_5 (Dense)             (None, 5)                 325       \n",
      "                                                                 \n",
      "=================================================================\n",
      "Total params: 6,149\n",
      "Trainable params: 6,149\n",
      "Non-trainable params: 0\n",
      "_________________________________________________________________\n"
     ]
    }
   ],
   "source": [
    "model = keras.Sequential()\n",
    "model.add(Conv1D(filters=64, kernel_size=15, activation='relu', input_shape=(45, 6), strides=1))\n",
    "model.add(tf.keras.layers.GlobalAveragePooling1D())\n",
    "model.add(layers.Dense(5, activation='softmax'))\n",
    "model.compile(loss='categorical_crossentropy', optimizer=Adam(learning_rate=0.001), metrics=['accuracy'])\n",
    "model.summary()"
   ]
  },
  {
   "cell_type": "code",
   "execution_count": null,
   "metadata": {
    "collapsed": false,
    "pycharm": {
     "name": "#%%\n"
    }
   },
   "outputs": [],
   "source": []
  },
  {
   "cell_type": "code",
   "execution_count": null,
   "metadata": {
    "collapsed": false,
    "pycharm": {
     "name": "#%%\n"
    }
   },
   "outputs": [
    {
     "name": "stdout",
     "output_type": "stream",
     "text": [
      "Epoch 1/5000\n",
      "930/930 [==============================] - 3s 3ms/step - loss: 5.2154e-04 - accuracy: 0.8868 - val_loss: 0.2226 - val_accuracy: 0.9215 - lr: 0.0010\n",
      "Epoch 2/5000\n",
      "930/930 [==============================] - 2s 2ms/step - loss: 3.0413e-04 - accuracy: 0.9344 - val_loss: 0.1632 - val_accuracy: 0.9430 - lr: 0.0010\n",
      "Epoch 3/5000\n",
      "930/930 [==============================] - 2s 2ms/step - loss: 2.4509e-04 - accuracy: 0.9462 - val_loss: 0.1841 - val_accuracy: 0.9334 - lr: 0.0010\n",
      "Epoch 4/5000\n",
      "930/930 [==============================] - 2s 3ms/step - loss: 2.0736e-04 - accuracy: 0.9546 - val_loss: 0.1831 - val_accuracy: 0.9377 - lr: 0.0010\n",
      "Epoch 5/5000\n",
      "930/930 [==============================] - 2s 3ms/step - loss: 1.8616e-04 - accuracy: 0.9587 - val_loss: 0.1327 - val_accuracy: 0.9570 - lr: 0.0010\n",
      "Epoch 6/5000\n",
      "930/930 [==============================] - 2s 2ms/step - loss: 1.6834e-04 - accuracy: 0.9638 - val_loss: 0.1308 - val_accuracy: 0.9554 - lr: 0.0010\n",
      "Epoch 7/5000\n",
      "930/930 [==============================] - 2s 2ms/step - loss: 1.5046e-04 - accuracy: 0.9677 - val_loss: 0.1433 - val_accuracy: 0.9506 - lr: 0.0010\n",
      "Epoch 8/5000\n",
      "930/930 [==============================] - 2s 2ms/step - loss: 1.4358e-04 - accuracy: 0.9686 - val_loss: 0.1257 - val_accuracy: 0.9575 - lr: 0.0010\n",
      "Epoch 9/5000\n",
      "930/930 [==============================] - 2s 2ms/step - loss: 1.3088e-04 - accuracy: 0.9715 - val_loss: 0.1391 - val_accuracy: 0.9506 - lr: 0.0010\n",
      "Epoch 10/5000\n",
      "930/930 [==============================] - 2s 3ms/step - loss: 1.2346e-04 - accuracy: 0.9726 - val_loss: 0.1141 - val_accuracy: 0.9645 - lr: 0.0010\n",
      "Epoch 11/5000\n",
      "930/930 [==============================] - 2s 2ms/step - loss: 1.2028e-04 - accuracy: 0.9730 - val_loss: 0.1320 - val_accuracy: 0.9592 - lr: 0.0010\n",
      "Epoch 12/5000\n",
      "930/930 [==============================] - 2s 2ms/step - loss: 1.1099e-04 - accuracy: 0.9752 - val_loss: 0.1159 - val_accuracy: 0.9629 - lr: 0.0010\n",
      "Epoch 13/5000\n",
      "930/930 [==============================] - 2s 2ms/step - loss: 1.0659e-04 - accuracy: 0.9757 - val_loss: 0.1152 - val_accuracy: 0.9618 - lr: 0.0010\n",
      "Epoch 14/5000\n",
      "930/930 [==============================] - 2s 2ms/step - loss: 9.9353e-05 - accuracy: 0.9775 - val_loss: 0.1503 - val_accuracy: 0.9511 - lr: 0.0010\n",
      "Epoch 15/5000\n",
      "930/930 [==============================] - 2s 2ms/step - loss: 9.6628e-05 - accuracy: 0.9780 - val_loss: 0.1303 - val_accuracy: 0.9597 - lr: 0.0010\n",
      "Epoch 16/5000\n",
      "930/930 [==============================] - 2s 2ms/step - loss: 9.4716e-05 - accuracy: 0.9786 - val_loss: 0.1067 - val_accuracy: 0.9694 - lr: 0.0010\n",
      "Epoch 17/5000\n",
      "930/930 [==============================] - 2s 3ms/step - loss: 8.6256e-05 - accuracy: 0.9810 - val_loss: 0.1304 - val_accuracy: 0.9592 - lr: 0.0010\n",
      "Epoch 18/5000\n",
      "930/930 [==============================] - 2s 2ms/step - loss: 8.5408e-05 - accuracy: 0.9809 - val_loss: 0.1406 - val_accuracy: 0.9624 - lr: 0.0010\n",
      "Epoch 19/5000\n",
      "930/930 [==============================] - 2s 2ms/step - loss: 8.1875e-05 - accuracy: 0.9814 - val_loss: 0.1380 - val_accuracy: 0.9533 - lr: 0.0010\n",
      "Epoch 20/5000\n",
      "930/930 [==============================] - 3s 3ms/step - loss: 7.9514e-05 - accuracy: 0.9820 - val_loss: 0.1281 - val_accuracy: 0.9640 - lr: 0.0010\n",
      "Epoch 21/5000\n",
      "930/930 [==============================] - 2s 2ms/step - loss: 7.7064e-05 - accuracy: 0.9833 - val_loss: 0.1345 - val_accuracy: 0.9549 - lr: 0.0010\n",
      "Epoch 22/5000\n",
      "930/930 [==============================] - 2s 3ms/step - loss: 7.4741e-05 - accuracy: 0.9834 - val_loss: 0.1404 - val_accuracy: 0.9608 - lr: 0.0010\n",
      "Epoch 23/5000\n",
      "930/930 [==============================] - 2s 3ms/step - loss: 6.9910e-05 - accuracy: 0.9841 - val_loss: 0.1232 - val_accuracy: 0.9618 - lr: 0.0010\n",
      "Epoch 24/5000\n",
      "930/930 [==============================] - 2s 2ms/step - loss: 6.8384e-05 - accuracy: 0.9856 - val_loss: 0.1145 - val_accuracy: 0.9640 - lr: 0.0010\n",
      "Epoch 25/5000\n",
      "930/930 [==============================] - 2s 2ms/step - loss: 6.5986e-05 - accuracy: 0.9860 - val_loss: 0.1318 - val_accuracy: 0.9586 - lr: 0.0010\n",
      "Epoch 26/5000\n",
      "930/930 [==============================] - 2s 2ms/step - loss: 6.3799e-05 - accuracy: 0.9858 - val_loss: 0.1579 - val_accuracy: 0.9490 - lr: 0.0010\n",
      "Model: \"sequential_5\"\n",
      "_________________________________________________________________\n",
      " Layer (type)                Output Shape              Param #   \n",
      "=================================================================\n",
      " conv1d_5 (Conv1D)           (None, 31, 64)            5824      \n",
      "                                                                 \n",
      " global_average_pooling1d_5   (None, 64)               0         \n",
      " (GlobalAveragePooling1D)                                        \n",
      "                                                                 \n",
      " dense_5 (Dense)             (None, 5)                 325       \n",
      "                                                                 \n",
      "=================================================================\n",
      "Total params: 6,149\n",
      "Trainable params: 6,149\n",
      "Non-trainable params: 0\n",
      "_________________________________________________________________\n"
     ]
    }
   ],
   "source": [
    "reduce_lr = tf.keras.callbacks.ReduceLROnPlateau(monitor='val_loss', factor=0.5, patience=20, min_lr=0, verbose=1)\n",
    "Callback = tf.keras.callbacks.EarlyStopping(monitor='val_loss', patience=10)\n",
    "checkpoint_filepath = \"model_checkpoint/\"\n",
    "model_checkpoint_callback = ModelCheckpoint(\n",
    "    filepath=checkpoint_filepath,\n",
    "    monitor='val_loss',\n",
    "    mode='min',\n",
    "    save_best_only=True)\n",
    "mo_fitt = model.fit(X_train, y_train, epochs=5000, validation_data=(X_val, y_val), callbacks=[Callback, reduce_lr],\n",
    "                    verbose=1, batch_size=32, class_weight=weights)\n",
    "model.summary()"
   ]
  },
  {
   "cell_type": "code",
   "execution_count": null,
   "metadata": {
    "collapsed": false,
    "pycharm": {
     "name": "#%%\n"
    }
   },
   "outputs": [],
   "source": [
    "accuracy = mo_fitt.history['accuracy']\n",
    "loss = mo_fitt.history['loss']\n",
    "validation_loss = mo_fitt.history['val_loss']\n",
    "validation_accuracy = mo_fitt.history['val_accuracy']"
   ]
  },
  {
   "cell_type": "code",
   "execution_count": null,
   "metadata": {
    "collapsed": false,
    "pycharm": {
     "name": "#%%\n"
    }
   },
   "outputs": [
    {
     "data": {
      "image/png": "[encoded data removed]",
      "text/plain": [
       "<Figure size 640x480 with 2 Axes>"
      ]
     },
     "metadata": {},
     "output_type": "display_data"
    },
    {
     "name": "stdout",
     "output_type": "stream",
     "text": [
      "              precision    recall  f1-score   support\n",
      "\n",
      "           0       0.98      0.97      0.97       262\n",
      "           1       0.97      0.95      0.96       568\n",
      "           2       0.96      0.98      0.97       426\n",
      "           3       1.00      0.95      0.97       396\n",
      "           4       0.94      0.97      0.95       697\n",
      "\n",
      "    accuracy                           0.96      2349\n",
      "   macro avg       0.97      0.96      0.97      2349\n",
      "weighted avg       0.96      0.96      0.96      2349\n",
      "\n"
     ]
    }
   ],
   "source": [
    "predictions = model.predict(X_test)\n",
    "class_labels = [\"WALKING\", \"GRENADE\", \"RELOAD\", \"SHIELD\", \"LOGOUT\"]\n",
    "\n",
    "max_predictions = np.argmax(predictions, axis=1)\n",
    "max_labels = np.argmax(y_test, axis=1)\n",
    "confusion_matrix = metrics.confusion_matrix(max_labels, max_predictions)\n",
    "sns.heatmap(confusion_matrix, xticklabels=class_labels, yticklabels=class_labels, annot=True, linewidths=0.1, fmt='d',\n",
    "            cmap='YlGnBu')\n",
    "plt.title(\"Confusion matrix\", fontsize=15)\n",
    "plt.ylabel('True label')\n",
    "plt.xlabel('Predicted label')\n",
    "plt.show()\n",
    "\n",
    "print(classification_report(max_labels, max_predictions))"
   ]
  },
  {
   "cell_type": "code",
   "execution_count": null,
   "metadata": {
    "collapsed": false,
    "pycharm": {
     "name": "#%%\n"
    }
   },
   "outputs": [],
   "source": [
    "def save_model(model):\n",
    "    for i in range(len(model.layers)):\n",
    "        # skip global pooling layer\n",
    "        if i == 1:\n",
    "            continue\n",
    "        layer = model.layers[i].get_weights()\n",
    "        weights = layer[0]\n",
    "        biases = layer[1]\n",
    "        if i == 0:\n",
    "            name = \"cnn\"\n",
    "            weights = np.transpose(weights, (2, 0, 1))\n",
    "        else:\n",
    "            name = \"dense\"\n",
    "            weights = np.transpose(weights, (1, 0))\n",
    "\n",
    "        # save weights and biases to file\n",
    "        np.save(f\"{name}_weights.npy\", weights)\n",
    "        np.save(f\"{name}_bias.npy\", biases)"
   ]
  },
  {
   "cell_type": "code",
   "execution_count": null,
   "metadata": {
    "collapsed": false,
    "pycharm": {
     "name": "#%%\n"
    }
   },
   "outputs": [],
   "source": [
    "save_model(model)"
   ]
  }
 ],
 "metadata": {
  "kernelspec": {
   "display_name": "Python 3",
   "language": "python",
   "name": "python3"
  },
  "language_info": {
   "codemirror_mode": {
    "name": "ipython",
    "version": 3
   },
   "file_extension": ".py",
   "mimetype": "text/x-python",
   "name": "python",
   "nbconvert_exporter": "python",
   "pygments_lexer": "ipython3",
   "version": "3.8.4"
  }
 },
 "nbformat": 4,
 "nbformat_minor": 0
}